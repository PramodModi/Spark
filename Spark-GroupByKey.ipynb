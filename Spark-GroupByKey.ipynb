{
 "cells": [
  {
   "cell_type": "code",
   "execution_count": 27,
   "metadata": {},
   "outputs": [],
   "source": [
    "# Import the needed library\n",
    "from pyspark import SparkConf, SparkContext"
   ]
  },
  {
   "cell_type": "code",
   "execution_count": 28,
   "metadata": {},
   "outputs": [],
   "source": [
    "# Create a new context or use the current open context\n",
    "sc = SparkContext.getOrCreate();"
   ]
  },
  {
   "cell_type": "code",
   "execution_count": 29,
   "metadata": {},
   "outputs": [],
   "source": [
    "#Distribute a local Python collection to form an RDD. \n",
    "#Using range is recommended if the input represents a range for performance\n",
    "r1 = sc.parallelize([\n",
    "    (\"USA\", 1), (\"USA\", 2), (\"India\", 1),\n",
    "    (\"UK\", 1), (\"India\", 4), (\"India\", 9),\n",
    "    (\"USA\", 8), (\"USA\", 3), (\"India\", 4),\n",
    "    (\"UK\", 6), (\"UK\", 9), (\"UK\", 5)], 3)"
   ]
  },
  {
   "cell_type": "code",
   "execution_count": 30,
   "metadata": {},
   "outputs": [],
   "source": [
    "## groupByKey with default partitions.\n",
    "r2 = r1.groupByKey()"
   ]
  },
  {
   "cell_type": "code",
   "execution_count": 31,
   "metadata": {},
   "outputs": [
    {
     "name": "stdout",
     "output_type": "stream",
     "text": [
      "Output:  3\n"
     ]
    }
   ],
   "source": [
    "## Check partitions\n",
    "print('Output: ',r2.getNumPartitions()) "
   ]
  },
  {
   "cell_type": "code",
   "execution_count": 32,
   "metadata": {},
   "outputs": [
    {
     "name": "stdout",
     "output_type": "stream",
     "text": [
      "Output:  2\n"
     ]
    }
   ],
   "source": [
    "## With predefined Partitions. Here number of partition is 2\n",
    "r3 = r1.groupByKey(2)\n",
    "print('Output: ',r3.getNumPartitions())"
   ]
  },
  {
   "cell_type": "code",
   "execution_count": 33,
   "metadata": {},
   "outputs": [
    {
     "name": "stdout",
     "output_type": "stream",
     "text": [
      "USA [1, 2, 8, 3]\n",
      "India [1, 4, 9, 4]\n",
      "UK [1, 6, 9, 5]\n"
     ]
    }
   ],
   "source": [
    "# Print the RDD\n",
    "for t in r3.collect():\n",
    "    print(t[0], [v for v in t[1]])"
   ]
  },
  {
   "cell_type": "code",
   "execution_count": null,
   "metadata": {},
   "outputs": [],
   "source": [
    "# Stop the Spark program\n",
    "sc.stop()"
   ]
  },
  {
   "cell_type": "code",
   "execution_count": null,
   "metadata": {},
   "outputs": [],
   "source": []
  }
 ],
 "metadata": {
  "kernelspec": {
   "display_name": "Python 3",
   "language": "python",
   "name": "python3"
  },
  "language_info": {
   "codemirror_mode": {
    "name": "ipython",
    "version": 3
   },
   "file_extension": ".py",
   "mimetype": "text/x-python",
   "name": "python",
   "nbconvert_exporter": "python",
   "pygments_lexer": "ipython3",
   "version": "3.8.3"
  }
 },
 "nbformat": 4,
 "nbformat_minor": 4
}
